{
  "nbformat": 4,
  "nbformat_minor": 0,
  "metadata": {
    "colab": {
      "provenance": []
    },
    "kernelspec": {
      "name": "python3",
      "display_name": "Python 3"
    },
    "language_info": {
      "name": "python"
    }
  },
  "cells": [
    {
      "cell_type": "markdown",
      "source": [
        "# **THEORY QUESTIONS**"
      ],
      "metadata": {
        "id": "P6ufvlrvLywz"
      }
    },
    {
      "cell_type": "markdown",
      "source": [
        "## **1. What is the difference between interpreted and compiled languages?**"
      ],
      "metadata": {
        "id": "Y-w_T9OEL4GD"
      }
    },
    {
      "cell_type": "markdown",
      "source": [
        "- The main difference between compiled and interpreted language is how the source code is executed.\n",
        "  - **Compiled Languages** are translated into machine code allowiing faster execution, **Interpreted Languages** are translated and executed line by line during runtime."
      ],
      "metadata": {
        "id": "GO-noUIzVXXU"
      }
    },
    {
      "cell_type": "code",
      "source": [
        "#           Compiled Languages                  |                  Interpreted Languages\n",
        "# - Source code is converted into machine code  | - Source code is translated and executed\n",
        "#     by a compiler before execution which can  |   line by line by interpreter during run time.\n",
        "#     be directly executed by the processor.    |\n",
        "#                                               |\n",
        "# - Compiled code is executed directly, making  | - Code is read, translated and then executed by the\n",
        "#   it generally faster than interpreted code.  |   interpreter, making the execution process slower.\n",
        "#                                               |\n",
        "# - E,g; C, C++                                 | - E.g; Python, JavaScript\n",
        "#                                               |\n",
        "# - Advantages:                                 | - Advantages:\n",
        "#       - Faster Execution,                     |       - Flexible\n",
        "#       - Efficient Resource Utilization,       |       - Easy Debugging\n",
        "#       - Optimized outputs                     |       - Portable across different platforms\n",
        "#                                               |\n",
        "# - Disadvantages:                              | - Disadvantages:\n",
        "#       - Compilation can be time consuming     |       - Slower execution speed due to the\n",
        "#       - Compiled Codes are not portable       |         interpretation processes.\n",
        "#           across different platforms.         |       - The source code needs to be available to anyone\n",
        "#                                                         who wants to run the program.\n",
        "\n"
      ],
      "metadata": {
        "id": "pwn-5XWxXIki"
      },
      "execution_count": null,
      "outputs": []
    },
    {
      "cell_type": "markdown",
      "source": [
        "## **2. What is exception handling in Python?**"
      ],
      "metadata": {
        "id": "HtGYsyz-L9cm"
      }
    },
    {
      "cell_type": "markdown",
      "source": [
        "- In Python, Exception Handling is a mechanism used to manage runtime errors, also called as exceptions; that disrupts the normal flow of program.\n",
        "- During a unexpected event or error, an exception is raised.\n",
        "- Generally the program crashes or stops abruptly if not handled.\n",
        "- It utilizes 'try', 'except', 'else' and 'finally' block.\n",
        "  - 'try': wrap code that might raise an error.\n",
        "  - 'except': handle the error without stopping the program.\n",
        "  - 'else': runs if no exception occurs.\n",
        "  - 'finally': always runs (good for clean up like closing files.)\n",
        "\n",
        "  "
      ],
      "metadata": {
        "id": "UHVWqTG7wfeB"
      }
    },
    {
      "cell_type": "markdown",
      "source": [
        "## **3. What is the purpose of the finally block in exception handling?**"
      ],
      "metadata": {
        "id": "pAez9DT8MDSW"
      }
    },
    {
      "cell_type": "markdown",
      "source": [
        "- The \"finally\" block in exception handling ensures that a specific block of code is always executed, whethere an exception occurs or caught within the 'try' block.\n",
        "- It is primarily used for cleanup operations, such as releasing resources(closing files, network connections, etc) to prevent resource leaks or unexpected behaviour.\n",
        "- \"finally\" always runs, even if there's a 'return', 'break', or 'continue' in the 'try'/'except' block.\n",
        "- The only time it won't run if the program terminates abruptly."
      ],
      "metadata": {
        "id": "4iRnckcKxnmm"
      }
    },
    {
      "cell_type": "markdown",
      "source": [
        "## **4. What is logging in Python?**"
      ],
      "metadata": {
        "id": "lrJs9zMSMHW0"
      }
    },
    {
      "cell_type": "markdown",
      "source": [
        "- Logging in Python refers to the process of recording ecents that occur within a program during its execution.\n",
        "- These events can include information about the program's flow, warnings, errors, or critical failures.\n",
        "- The primary purpose of logging is to provide insights into the application's behaviour, aid in debugging, troubleshoot issues and monitor the health and performance of the system.\n",
        "- Log Levels(In Increasing Severity):\n",
        "  1. DEBUG: Detailed Information for troubleshooting.\n",
        "  2. INFO: General Runtime events (confirmation things are working).\n",
        "  3. WARNING: Indications of potential problems.\n",
        "  4. ERROR: Serious issues that caused part of the program to fail.\n",
        "  5. CRITICAL: Severe errors that may cause the program to stop."
      ],
      "metadata": {
        "id": "4gXe-rKMyr9X"
      }
    },
    {
      "cell_type": "markdown",
      "source": [
        "## **5. What is the significance of the __del__ method in Python?**"
      ],
      "metadata": {
        "id": "-tBYJvZ5MNOq"
      }
    },
    {
      "cell_type": "markdown",
      "source": [
        "- The \"del\" method in python is a special method, known as destructor or finalizer, which is called when an object is about to be destroyed.\n",
        "- It provides a way to perform cleanup actions before the object's memory is reclaimed by the garbage collector.\n",
        "- Significance:\n",
        "  - Allows to clean up resources before the object is deleted.\n",
        "  - Runs automatically when the object's reference count drops to zero.\n"
      ],
      "metadata": {
        "id": "i_NeCOKvz-lN"
      }
    },
    {
      "cell_type": "markdown",
      "source": [
        "## **6. What is the difference between import and from ... import in Python?**"
      ],
      "metadata": {
        "id": "T262ax2KMRHb"
      }
    },
    {
      "cell_type": "markdown",
      "source": [
        "- The difference between import and from....import in python is how the module's contents are going to be accessed.\n",
        "1. **Import:** Imports the entore module.\n",
        "  - must use the module name as a prefix to access its functions, classes or variables.\n",
        "2. **from...import:** Imports specific items such as functions/classes/variables/ from a module directly into your namespace.\n",
        "  - Can be used without module prefix.\n",
        "\n",
        "- **Difference between Import and from...import:**\n",
        "  **a. Scope of Import:** import brings in the entire module; from....import  brings in specific components.\n",
        "  \n",
        "  **b. Access Method:** import requires prefixing with the module name; from....import allows direct access to imported components.\n",
        "  \n",
        "  **c. Namespace Impact:** import adds the module object to the namespace; from...ipmort adds only the specified components to the namespace.\n",
        "\n",
        "**When To Use**:\n",
        "- **import:**\n",
        "  - when multiple components from a module is needed and their orgin is clearly indicated,\n",
        "  - to avoid potential name conflicts if components have same name as variables or functions in the current code.\n",
        "\n",
        "- **from....import**:\n",
        "  - When only a few specific components from a module is needed and\n",
        "  - avoid multiple typing the module name\n"
      ],
      "metadata": {
        "id": "FUHU5gDy1HPA"
      }
    },
    {
      "cell_type": "markdown",
      "source": [
        "## **7. How can you handle multiple exceptions in Python?**"
      ],
      "metadata": {
        "id": "TnEOODaAMV0Y"
      }
    },
    {
      "cell_type": "markdown",
      "source": [
        "- There are two primary methods to handle multiple exceptions in python:\n",
        "  1. Multiple Except blocks\n",
        "  2. Single Except Block\n",
        "\n",
        "1. **Multiple Except Block**:\n",
        "  - The most common and recommended way when different types of exceptions needs to be handled with different logics.\n",
        "  - Each 'except' block is lists a specific exception type.\n",
        "  - Python tries to match the raised exception block serially.\n",
        "\n",
        "2. **Single Except Block**:\n",
        "  - Single except block with a tuple of exception allows to handle multiple exceptions using a single except block by specifying the exception types as a tuole.\n",
        "  - This is useful when the handling logic for multiple exceptions is the same.\n",
        "\n",
        "**USE CASE**:\n",
        "- Multiple Except block are suitable when differnrt exception types require distinct handling logic.\n",
        "- A single Exceot Block with a tuple is efficient when the same handling logic applies to multiple exception types. This approach promotes cleaner amd more concise code.\n",
        "\n"
      ],
      "metadata": {
        "id": "IRIJkeXT39QC"
      }
    },
    {
      "cell_type": "markdown",
      "source": [
        "## **8. What is the purpose of the with statement when handling files in Python?**"
      ],
      "metadata": {
        "id": "3-DoC2LYMZTG"
      }
    },
    {
      "cell_type": "markdown",
      "source": [
        "- In Python, 'with' statements are used during file handling, ensuring proper resource management and automatic cleanup, specifically closing of the file.\n",
        "- 'with' statements ensures automatic file closure after exiting the code block, preventing resource leaks and potential corruption, regardless of successful completion or error.\n",
        "- 'with' statements simplifies resource management by providing a cleaner and more concise syntax for handling setup and teardown actions, replacing try...finally blocks.\n",
        "- it enhances code readability by abstacting explicit open and close operations, reducing errors related to foregetting to close files.\n",
        "\n",
        "- In essence, 'with' statement serves as a context manager, that automatically handling accessing into and out of the file ensuring that necessary cleanup actions and set up are done reliably."
      ],
      "metadata": {
        "id": "Ou396wJS7xGA"
      }
    },
    {
      "cell_type": "markdown",
      "source": [
        "## **9. What is the difference between multithreading and multiprocessing?**"
      ],
      "metadata": {
        "id": "iOKZeStCMdPc"
      }
    },
    {
      "cell_type": "markdown",
      "source": [
        "- Multithreading and multiprocessing are techniques used to achieve concurrency and parallelism in programs, allowing multiple tasks to seemingly or actually execute at the same time.\n",
        "- The difference lies in their way of execution, memory sharing a and CPU Utilization.\n",
        "\n",
        ">**MULTI-THREADING:**\n",
        "  - It involves creating multiple threads within a single process.\n",
        "  - Threads within the same process share process share the same memory space, including code, data, and files.\n",
        "  - It makes communication between threads very efficiently, as they can directly access shared variables.\n",
        "  - Creating and managing threads is generally less resource-intensive(faster and consumes less memory)than creating processes.\n",
        "  - Due to GIL(Global Interpreter Lock), it processes concurrently rather than parallely for CPU Bound tasks.\n",
        "  - Use Case: Highly effective for I/O bound tasks(reading/writing files; network requests, database queries).\n",
        "    - when one thread is waiting for an I/O operation to complete, GIL allows another thread to execute Python Code.\n",
        "    - This allows tasks to overlap their times, improving overall efficiency.\n",
        "\n",
        ">**MULTI-THREADING:**\n",
        "  - It creates multiple independent processes.\n",
        "  - Each process runs in its own independent memory space. One process crashing usually do not affect other processes.\n",
        "  - Creating and managing processes is more resource-intensive(slower and consumes more memory) that threads due to the overhead of setting up a new memory space for each process.\n",
        "  - It bypasses the GIL in python. Meaning that each process has its own python interpreter and its own GIL.\n",
        "  - This allows multiple processes to run simultenously on different CPU cores, making it suitable for CPU-bound tasks(e.g; heavy computations, data processing, scientific simulations).\n",
        "\n",
        "\n"
      ],
      "metadata": {
        "id": "AQscJDehW0v_"
      }
    },
    {
      "cell_type": "code",
      "source": [
        "#       Multithreading                  |                MultiProcessing\n",
        "# - Multiple threads within a           |     - Multiple Independent processes.\n",
        "#   single process.                     |\n",
        "#                                       |\n",
        "# - Shared memory space                 |     - Separate memory space for each process\n",
        "#                                       |\n",
        "# - Lightweight(less overhead)          |     - Heavyweight(more overhead)\n",
        "#                                       |\n",
        "# - Concurrency (due to GIL)            |     - True Parallelism (bypasses GIL)\n",
        "#                                       |\n",
        "# - Easy (direct memory access)         |     - More Complex (requires IPC)\n",
        "#                                       |\n",
        "# - Lower (one thread crash can affect  |     - Higher (one process crash usually\n",
        "#                 process)              |                 doesn't affect others)\n",
        "#                                       |\n",
        "# - I/O bound tasks                     |     - CPU-bound tasks\n"
      ],
      "metadata": {
        "id": "2jE5MfoAZpXP"
      },
      "execution_count": null,
      "outputs": []
    },
    {
      "cell_type": "markdown",
      "source": [
        "## **10. What are the advantages of using logging in a program?**"
      ],
      "metadata": {
        "id": "kjgaUwLgMh1C"
      }
    },
    {
      "cell_type": "markdown",
      "source": [
        "**Advantages Of Logging:**\n",
        "  - **Different Severity levels:** Logging supports DEBUG, INFO, WARNING, ERROR and CRITICAL levels which supports categorizing messages based on importance.\n",
        "  - **Persistance Records:** Logs can be saved to a file for future analysis, unlike print statements which disappears after the program ends.\n",
        "  - **Configurable Output:** Display logs can be selected on the console, saved into files, or sent to remote servers or monitoring tools.\n",
        "  - **Timestamped Messages:** It includes timestams and other context(e.g; file name, function name) automatically, which helps with debugging.\n",
        "  - **Easy to Enable/diable:** Logging level can be controlled globally. Debus logs can be disabled in production without removing code.\n",
        "  - **Thread- and Process-safe:** The logging module works well with multi threading and multi processing ensuring log messages don't get mixed up.\n",
        "  - **Better Maintainability:** Logging provides structured, consistent output that makes diagnosing issues easier in large applications."
      ],
      "metadata": {
        "id": "Xb45qVQtgaGk"
      }
    },
    {
      "cell_type": "markdown",
      "source": [
        "## **11. What is memory management in Python?**"
      ],
      "metadata": {
        "id": "MkykzwksMlqQ"
      }
    },
    {
      "cell_type": "markdown",
      "source": [
        "- Memory management system in python automatically handles the allocation and deallocation of memory resources for Python programs.\n",
        "- This process ensures efficient use of memory and prevents common memory related errors that can occur in languages requiring manual memory management.\n",
        "- Python handles most of the above aspects by usning built in memory manager and garbage collector.\n",
        "\n",
        ">**Key Aspects Of Memory Management:**\n",
        "  1. Automatic Memory Allocation: When a variable/object/data structure is created, they are automatically allocated in the memory. Different internal managers handle different types of objects.(e.g., integers, strings, etc.)\n",
        "  2. Reference Counting: Python keeps track of how many references point to an object. When the count drop to zero, the object vecome eligible for garbage collection.\n",
        "  3. Garbage Collection(GC): Unused objects are freed up from memory via garbage collection.\n",
        "  4. Private Heap Space: All python objects live in a private heap managed by the python interpreter. Developers don't directly manage heap memory.\n",
        "  5. Memory Pools: Python uses a system called pymalloc to manage small memory requests efficiently."
      ],
      "metadata": {
        "id": "G3L_lJjmie5H"
      }
    },
    {
      "cell_type": "markdown",
      "source": [
        "## **12. What are the basic steps involved in exception handling in Python?**"
      ],
      "metadata": {
        "id": "Zbgy352ZMqX0"
      }
    },
    {
      "cell_type": "markdown",
      "source": [
        "- The basic steps involved in exception handling in python are 'try', 'except', 'else', and 'finally' blocks.\n",
        "\n",
        "1. **'try' Block:**\n",
        "  - This block contains the code that is anticipated to potentially generate an exception.\n",
        "  - If an exception occurs inside this block, the execution immediately switches to the corresponding except block.\n",
        "\n",
        "2. **'except' Block:**\n",
        "  - These blocks are in charge of handling particular kinds of potential exceptions.\n",
        "  - To handle various exception types separately, multiple except blocks are used.\n",
        "  - Any exception that more specialized except blocks are unable to catch can be caught by a general except Exception as e: block.\n",
        "\n",
        "3. **'else' Block:**\n",
        "  - Only if no exception was raised in the try block is this block executed.\n",
        "  - Code that should only execute after the try block has finished successfully can benefit from it.\n",
        "\n",
        "4. **'finally' Block:**\n",
        "  - Regardless of whether an exception was handled by an except block or occurred in the try block, this block is executed unconditionally.\n",
        "  - It is frequently used to ensure that cleanup tasks, like deleting files or releasing resources, are completed even in the event of an error."
      ],
      "metadata": {
        "id": "DJBKnxYMdqKq"
      }
    },
    {
      "cell_type": "markdown",
      "source": [
        "## **13.  Why is memory management important in Python?**"
      ],
      "metadata": {
        "id": "yCzwZwU7MuKY"
      }
    },
    {
      "cell_type": "markdown",
      "source": [
        "- Python memory management is essential since it has a direct effect on the stability, scalability, and performance of a program.  \n",
        "- Even though Python manages a lot of memory tasks automatically, knowing how it works allows us to write more dependable and effective code, particularly for data processing or large-scale applications.\n",
        "- **Importance:**\n",
        "  1. **Prevents Memory Leaks:**\n",
        "    - When a program allocates memory but fails to deallocate it, making it unavailabe to use in other processes, called as memory leak.\n",
        "    - Due to python's automatic garbage collection system, the risks of memory leaks reduces significantly but not completely.\n",
        "      - e.g,-  when a reference to a large object is accidentally held in a global list that never gets cleared, the memory for that object is never freed. This can cause the program to consume more and more resources over time, eventually slowing down or crashing the system.\n",
        "  2. **Performance and Efficiency Enhancing:**\n",
        "    - Efficient memory usage reduces the amount of data stored in RAM.\n",
        "    - Less memory means faster access times and fewer slow disk swaps.\n",
        "    - e.g., processing a huge dataset in chunks instead of loading it all at once.\n",
        "\n",
        "  3. **Optimization and Scalability:**\n",
        "    - For application that need to handle large amount of data, memory management is necessary to avoid overload crashing.\n"
      ],
      "metadata": {
        "id": "9ZQidwc8gEGm"
      }
    },
    {
      "cell_type": "markdown",
      "source": [
        "## **14. What is the role of try and except in exception handling?**"
      ],
      "metadata": {
        "id": "KVg79Qe5Mx-5"
      }
    },
    {
      "cell_type": "markdown",
      "source": [
        "- The 'try' and 'except' blocks play a fundamental role in exception handling i.e. managing runtime errors during programming.\n",
        "> **'try' block:**\n",
        "  - Wraps the code that might cause an error.\n",
        "  - If no error occurs, 'except' block is skipped and executes program normally.\n",
        "  - In case of any occurance of errors, 'try' block is exceuted by the python displaying the error message.\n",
        "\n",
        "  >**'except' block:**\n",
        "  - Encodes what to perform if any error takes place.\n",
        "  - Cathces the exceptions provided in the 'try' block and runs the error handling code.\n",
        "  - A particular type of error can be specified to catch only that specific error only. or a generic type error can be put to catch any type of error as failsafe plan."
      ],
      "metadata": {
        "id": "PmVCIrjs-Abg"
      }
    },
    {
      "cell_type": "markdown",
      "source": [
        "## **15. How does Python's garbage collection system work?**"
      ],
      "metadata": {
        "id": "WbLGENlRM2x7"
      }
    },
    {
      "cell_type": "markdown",
      "source": [
        "- Python's garbage collection system is responsible for automatically reclaming memory which is no longer in use.\n",
        "- It works primarily through two mwchanisms:\n",
        "  1. Reference Counting;\n",
        "  2. Cyclic Garbage Collector\n",
        "\n",
        "1. **Reference Counting(Primary Mechanism):**\n",
        "  - Every object in Python has an internal counter that tracks how many references point to it.\n",
        "  - When an object is assigned to a variable or a function is passed to it, its count increases.\n",
        "  - When a reference is deleted or goes out of scope, its count decreases.\n",
        "  - If the count reaches zero, object's memory is deallocated by Python.\n",
        "  - Reference counting fails when two or more objects reference each other but are otherwise unused(a cycle).\n",
        "\n",
        "2. ** Cyclic Garbage Collector:**\n",
        "  - Those cyclic references are detected by python's garbage collectors.\n",
        "  - It periodically scans objects for unreachable cycles and frees them.\n",
        "  - It Organizes all objects that are not immediately collected by reference counting into three generations based on their age.\n",
        "    - Generation 0: Contains the newest object.\n",
        "    - Generatio 1: Contains Object that have survived one garbage collection sweep.\n",
        "    - Generation 2: Contains the oldest objects that have survived multiple sweeps.\n",
        "  - The garbage collector starts with Gen 0 as the younger objects are more likely to be temporary and are less likely to be part of a cycle.\n",
        "  - It traverses the references of objects in that generation to find unreachable objects that have a non-zero reference count (a cycle).\n",
        "  - Once a cycle is found, the collector breaks the references and reclaims the memory.\n",
        "  "
      ],
      "metadata": {
        "id": "4qvgSFji_wEl"
      }
    },
    {
      "cell_type": "markdown",
      "source": [
        "## **16. What is the purpose of the else block in exception handling?**"
      ],
      "metadata": {
        "id": "7xOEkBHbM7Bt"
      }
    },
    {
      "cell_type": "markdown",
      "source": [
        "- The else block in exception handling in python serves the purpose of executing a block of code only if no exceptions are raised within the corresponding try block.\n",
        "- **PURPOSE:**\n",
        "  - Code that might raise an exception (in the try block).\n",
        "  - Code that handles exceptions (in the except block).\n",
        "  - Code that should run only if no exception occurred (in the else block).\n",
        "\n",
        "- It makes the codes more readable by differentiating possible problem causing codes and normally run codes."
      ],
      "metadata": {
        "id": "-gCYpAxsDDYf"
      }
    },
    {
      "cell_type": "markdown",
      "source": [
        "## **17. What are the common logging levels in Python?**"
      ],
      "metadata": {
        "id": "GldndtV8M-pM"
      }
    },
    {
      "cell_type": "markdown",
      "source": [
        "- To classify the severity of events, Python's built-in logging module offers a number of standard logging levels.  \n",
        "- From least to most severe, these levels are:\n",
        "  1. DEBUG: Offers comprehensive data, usually only helpful for problem diagnosis or development.\n",
        "  2. INFO: Verifies that everything is operating as it should and offers broad details about how the application typically operates.\n",
        "  3. WARNING: Notifies the user that an unexpected event has occurred or may occur shortly, but the application can still function.\n",
        "  4. ERROR: Indicates a more significant issue that has hindered the execution of specific functions.\n",
        "  5. CRITICAL: Indicates a serious error that the program may not be able to run any further or is about to stop."
      ],
      "metadata": {
        "id": "GUvKxBwzEOZm"
      }
    },
    {
      "cell_type": "markdown",
      "source": [
        "## **18. What is the difference between os.fork() and multiprocessing in Python?**"
      ],
      "metadata": {
        "id": "RO9aK7jRNCZv"
      }
    },
    {
      "cell_type": "markdown",
      "source": [
        "- The difference between os.fork() and multiprocessing in Python lies in their cross-platform compatibility, ease of use, and the level of abstraction they provide.\n",
        "- While both create new processes, multiprocessing is the modern, high-level, and cross-platform way to achieve this, whereas os.fork() is a lower-level, POSIX-specific function.\n",
        "\n",
        "> **os.fork():**\n",
        "  - The function os.fork() duplicates the calling process to create a new one.  \n",
        "  - The child process is a new process that is a perfect replica of the parent process.  \n",
        "  - The underlying fork() system call, which is accessible on Unix-like operating systems (Linux, macOS), but not on Windows, is directly called by this mechanism.\n",
        "    - Platform Specific: It is only available on POSIX systems. Running code with os.fork() on Windows will raise an AttributeError.\n",
        "    - Low-Level: It gives direct control over the process creation but requires manual handling of process IDs (PIDs), return codes, and inter-process communication.\n",
        "    - Copy-on-Write: It is very memory-efficient. The parent and child processes initially share the same memory pages. Memory is only copied when one of the processes modifies it.\n",
        "\n",
        "> **multiprocessing:**\n",
        "  - A high-level, object-oriented library called the multiprocessing module offers a clear API for spawning processes.  \n",
        "  - It enables you to take advantage of multiple CPU cores and is intended to replace threading.\n",
        "    - Cross-Platform: In situations where fork() is not available, it uses alternative underlying mechanisms to function on all major operating systems, including Windows.  It launches a new Python interpreter process on Windows by using the spawn method.\n",
        "    - High-Level Abstraction: It removes the intricacies involved in designing and managing processes.  It offers built-in data structures like Queue, Pipe, and Manager for secure inter-process communication, and you work with Process objects.\n",
        "    - Explicit Communication: Processes do not directly share memory because Windows' spawn method creates a new process from scratch.  They must use the specified IPC mechanisms for all explicit communication.\n",
        "    - Suggested: It is the accepted and advised method for writing Python code that runs concurrently and needs to utilize multiple processors."
      ],
      "metadata": {
        "id": "jHD94EYIE3uw"
      }
    },
    {
      "cell_type": "markdown",
      "source": [
        "## **19. What is the importance of closing a file in Python?**"
      ],
      "metadata": {
        "id": "QUv05m7aNGwK"
      }
    },
    {
      "cell_type": "markdown",
      "source": [
        "- In Python, closing a file is crucial for maintaining data integrity and effective resource management.   \n",
        "- It ensures that all changes are saved and releases system resources associated with that file.\n",
        "  1. Data Integrity and Persistence:\n",
        "    - The data that is being written to a file is frequently buffered in memory. This implies that it takes some time to be written to the actual file on your disk.  \n",
        "    - This buffer is flushed when the close() method is called, requiring that all outstanding data be written to the file.  \n",
        "    - There is a chance that some of the data you entered won't be saved if you don't close the file, which could result in a corrupted or incomplete file.\n",
        "  2. Resource Management:\n",
        "    - There is a limit to how many open files your operating system can manage at once.  \n",
        "    - This limit may eventually be reached by your program if it opens a lot of files but doesn't close them, which will prevent new file operations from working.  \n",
        "    - This is referred to as a file handle leak and may affect the system's and your program's stability.  \n",
        "    - The file handle is explicitly released when a file is closed, allowing other processes to use it.\n",
        "  3. Preventing Race Conditions:\n",
        "    - An open file may be locked on some systems, making it impossible for other programs to view or edit it.  \n",
        "    - If a different application or another section of your program needs to use that same file, this could result in race conditions or errors.  \n",
        "    - This lock is released when the file is closed.\n",
        "\n",
        "- One of the most important programming best practices is to explicitly close files. As it makes it obvious when file operations are finished and resources are released, it improves the code's stability, readability, and debugging capabilities.\n",
        "- Although Python has garbage collection and will eventually close files automatically when they are no longer used or when the program ends, it is not advised for critical applications to rely on this automatic closure because of the possible problems listed above.  \n",
        "- Because it guarantees that files are automatically closed even in the event of errors during file operations, the with statement is the recommended approach for handling files in Python.\n"
      ],
      "metadata": {
        "id": "si_5zLa-GFZ8"
      }
    },
    {
      "cell_type": "markdown",
      "source": [
        "## **20. What is the difference between file.read() and file.readline() in Python?**"
      ],
      "metadata": {
        "id": "fr56oYYPNKV3"
      }
    },
    {
      "cell_type": "markdown",
      "source": [
        "- Although both file.read() and file.readline() in Python can read content from a file object, they vary in the amount of information they can retrieve.\n",
        "  1. file.read():\n",
        "    - With this method, the entire file's contents are read and returned as a single string.  \n",
        "    - It reads the maximum number of size bytes (or characters in text mode) from the file if an optional size argument is supplied.  \n",
        "    - The complete contents of the file are read if size is left blank or set to -1.\n",
        "  2. file.readline():\n",
        "    - Using this method, a single line is read from the file and returned as a string.  \n",
        "    - When it hits a newline character (\\n) or the end of the file, it stops reading.  \n",
        "    - The string that is returned contains the newline character.  \n",
        "    - It will read no more than the current line's newline character if an optional size argument is supplied. However, it will read no more than size bytes (or characters) from the line, even if size is greater than the line's length.  \n",
        "    - An empty string is returned if the file is finished and there are no more lines."
      ],
      "metadata": {
        "id": "KzHZuo95H1LT"
      }
    },
    {
      "cell_type": "markdown",
      "source": [
        "## **21. What is the logging module in Python used for?**"
      ],
      "metadata": {
        "id": "oxTkZvgzNPsH"
      }
    },
    {
      "cell_type": "markdown",
      "source": [
        "- Python's logging module is used to record events that take place during software execution.  \n",
        "- It offers a strong and adaptable framework for logging errors, warnings, debugging data, and status messages.  \n",
        "- The logging module provides an organized method for handling these messages in place of the sometimes-difficult-to-manage print() statements.\n",
        "- **Key Usage:**\n",
        "  - Each message can be assigned a level of severity (INFO, WARNING, ERROR, etc.) by using message categorization. This makes it easier to filter messages and control recording.\n",
        "  - Controlling Output: A module can be set  to send messages to a network socket, the console, a log file, or other places.\n",
        "  - By changing the format of log messages, useful information can be added like the time, the log level, and the name of the function that made the message.\n",
        "  - DEBUG level messages let us see how the program is working while it's being developed. Setting the level to ERROR lets us only record important problems in production."
      ],
      "metadata": {
        "id": "SKKdikxCIvLf"
      }
    },
    {
      "cell_type": "markdown",
      "source": [
        "## **22. What is the os module in Python used for in file handling?**"
      ],
      "metadata": {
        "id": "C1v4xAAVNTSk"
      }
    },
    {
      "cell_type": "markdown",
      "source": [
        "- The os module in Python is used for interacting with the operating system.\n",
        "- In file handling, it provides a portable way to perform operations related to the file system, such as manipulating file paths, checking file attributes, and managing directories.\n",
        "- It's a foundational module for any task that involves working with files and folders.\n",
        "- The functions in the os module make sure that code written with os functions will work correctly on different operating systems (Windows, macOS, Linux) without needing a lot of changes."
      ],
      "metadata": {
        "id": "nY0wymc8J0aU"
      }
    },
    {
      "cell_type": "markdown",
      "source": [
        "## **23. What are the challenges associated with memory management in Python?**"
      ],
      "metadata": {
        "id": "RsfB7k2wNXHk"
      }
    },
    {
      "cell_type": "markdown",
      "source": [
        "- Memory management in Python presents several challenges, largely due to its automatic nature and the way it handles objects.\n",
        "- While Python's garbage collector simplifies development, it can introduce complexities that impact performance and resource usage in specific scenarios.\n",
        "  1. **Handling Memory Leaks from Reference Cycles:**\n",
        "    - Python's main garbage collection technique, reference counting, keeps track of how many variables point to an object.  \n",
        "    - When this count drops to zero, the object is immediately deallocated.  \n",
        "    - However, if two or more objects are in a cycle of holding references to each other, their reference counts will never go to zero.  \n",
        "    - Python's secondary garbage collector is designed to detect and remove these cycles, though it is not instantaneous and may result in brief pauses in operation.  \n",
        "    - Applications that rely on performance might not benefit from these pauses.\n",
        "  2. **Inconsistent Trash Collection:**\n",
        "  - Python's garbage collector runs periodically, not continuously.\n",
        "  - This can lead to unpredictable memory usage spikes. An object's memory isn't always freed the moment it's no longer needed; it may linger in a higher generation until the collector runs again.\n",
        "  - This lack of deterministic deallocation can make it difficult to predict a program's memory footprint and can cause performance issues in applications with strict memory limits.\n",
        "  3. **High Memory Overhead:**\n",
        "  - Python objects have a significant memory overhead.  \n",
        "  - Libraries like NumPy and Pandas mitigate this by using contiguous blocks of memory, but for native Python code, memory consumption can be a challenge.\n",
        "  4. **Memory Sharing in Multiprocessing:**\n",
        "  - On some platforms (such as Windows), when multiprocessing is enabled, additional processes are created that do not share memory with their parent process.  \n",
        "  - This implies that each child process will receive a copy of the parent process's big dataset, which will result in a notable increase in the overall amount of RAM used.  \n",
        "  - Utilizing multiprocessing and other techniques to explicitly manage shared memory. multiprocessing or array. Value is essential to avoiding this problem.\n",
        "\n",
        "\n"
      ],
      "metadata": {
        "id": "7a7toQUlKc8D"
      }
    },
    {
      "cell_type": "markdown",
      "source": [
        "## **24. How do you raise an exception manually in Python?**"
      ],
      "metadata": {
        "id": "S0v7bwd_NbxD"
      }
    },
    {
      "cell_type": "markdown",
      "source": [
        "- In Python, exceptions are manually raised using the raise keyword.\n",
        "- This allows developers to explicitly trigger an error condition at a specific point in the code, providing a mechanism for handling exceptional circumstances or enforcing validation rules.\n",
        "- Manually raising exceptions is crucial for robust error handling, input validation, and creating more resilient and maintainable Python applications."
      ],
      "metadata": {
        "id": "GUjfMRWePaMi"
      }
    },
    {
      "cell_type": "markdown",
      "source": [
        "## **25. Why is it important to use multithreading in certain applications?**"
      ],
      "metadata": {
        "id": "0TIEzAYGNf4o"
      }
    },
    {
      "cell_type": "markdown",
      "source": [
        "- Multithreading is crucial for enhancing application performance and responsiveness, particularly in scenarios involving concurrency and parallel processing.\n",
        "- By allowing multiple threads to execute simultaneously within a single process, it enables efficient resource utilization and improved overall system performance.\n",
        "- **IMPORTANCE:**\n",
        "  1. Improved Performance:\n",
        "    - Parallel Execution: Multithreading allows applications to take advantage of multi-core processors, executing tasks concurrently on different cores, leading to faster processing times.\n",
        "    - Resource Optimization: Threads share the same memory space and resources of the process they belong to, making communication and data sharing efficient.\n",
        "    - Reduced Latency: By handling tasks concurrently, multithreading can reduce the time it takes for an application to respond to user requests, improving overall responsiveness.\n",
        "  2. Enhanced Responsiveness:\n",
        "    - Non-Blocking Operations: Multithreading prevents one task from blocking the entire application, ensuring that the user interface remains responsive even when a lengthy operation is being performed.\n",
        "    - Foreground and Background Tasks: Applications can perform time-consuming tasks in the background while remaining responsive to user interactions in the foreground.\n",
        "      - Example: A web browser can load images and other content in the background while allowing the user to continue browsing the page.\n",
        "    3. Concurrency and Parallelism:\n",
        "      - Efficient Task Handling: Multithreading enables applications to handle multiple tasks concurrently, such as processing user requests, managing network connections, or performing calculations.\n",
        "      - Real-Time Applications: In real-time systems, multithreading ensures that tasks are executed with minimal delay, maintaining smooth performance.\n",
        "        - Example: A game can handle player input, graphics rendering, and network communication simultaneously using different threads.\n",
        "    4. Scalability:\n",
        "      - Handling Growing User Base: Multithreading can improve the scalability of applications, allowing them to handle a larger number of users and requests without significant performance degradation.\n",
        "        - Example: A web server can handle multiple client requests concurrently by assigning each request to a separate thread.\n",
        "    5. Simplified Program Structure:\n",
        "      - Modular Design: Multithreading can simplify the structure of complex applications by breaking down tasks into smaller, independent threads.\n",
        "      - Easier Maintenance: Modular design makes it easier to understand, maintain, and update the application's code."
      ],
      "metadata": {
        "id": "aTQUcXS5PkRN"
      }
    },
    {
      "cell_type": "markdown",
      "source": [
        "# **PRACTICAL QUESTIONS**"
      ],
      "metadata": {
        "id": "Vwj-PMYBNluf"
      }
    },
    {
      "cell_type": "markdown",
      "source": [
        "## **1. How can you open a file for writing in Python and write a string to it?**"
      ],
      "metadata": {
        "id": "HuTJEn5YNq0d"
      }
    },
    {
      "cell_type": "code",
      "source": [
        "'''\n",
        "A file can be opened for writing in Python using the open() function with the mode set to \"w\".\n",
        "'with' function ensures that the file is properly closed after the block of code is executed.\n",
        "'''\n",
        "with open(\"my_file.txt\",\"w\") as file:\n",
        "  file.write(\"Hello! I am Navaneeta Mishra\")"
      ],
      "metadata": {
        "id": "RdJXjiwHPp3I"
      },
      "execution_count": null,
      "outputs": []
    },
    {
      "cell_type": "markdown",
      "source": [
        "## **2. Write a Python program to read the contents of a file and print each line.**"
      ],
      "metadata": {
        "id": "DZBud47INubZ"
      }
    },
    {
      "cell_type": "code",
      "source": [
        "with open(\"my_file.txt\",\"r\") as file:\n",
        "  for line in file:\n",
        "    print(line)"
      ],
      "metadata": {
        "id": "S8ciUWPQSOMm"
      },
      "execution_count": null,
      "outputs": []
    },
    {
      "cell_type": "markdown",
      "source": [
        "## **3. How would you handle a case where the file doesn't exist while trying to open it for reading?**"
      ],
      "metadata": {
        "id": "iGUi54QbNzR2"
      }
    },
    {
      "cell_type": "code",
      "source": [
        "try:\n",
        "  with open(\"my_file.txt\",\"r\") as file:\n",
        "    content=file.read()\n",
        "    print(content)\n",
        "# This block will only run only if the file does not exist.\n",
        "except FileNotFoundError:\n",
        "  print(\"File not found\")"
      ],
      "metadata": {
        "id": "l4715ERKSomb"
      },
      "execution_count": null,
      "outputs": []
    },
    {
      "cell_type": "markdown",
      "source": [
        "## **4. Write a Python script that reads from one file and writes its content to another file.**"
      ],
      "metadata": {
        "id": "jD8vvGVYN5vz"
      }
    },
    {
      "cell_type": "code",
      "source": [
        "def copy_file_content(source_file,destination_file):\n",
        "  try:\n",
        "    with open(source_file,\"r\") as file:\n",
        "      content=file.read()\n",
        "      with open(destination_file,\"w\") as file:\n",
        "        file.write(content)\n",
        "        print(f\"File Content Successfully Copied from {source_file} to {destination_file} .\")\n",
        "  except FileNotFoundError:\n",
        "    print(f\"Any file is missiing. Please check the file Paths\")\n",
        "\n",
        "  except Exception as e:\n",
        "    print(f\"An error occured: {e}\")\n",
        "\"\"\"\n",
        "This function copies the content of the source file to the destination file.\n",
        "\n",
        "Args:\n",
        "  source_file: The path to the source file.\n",
        "  destination_file: The path to the destination file.\n",
        "\"\"\"\n",
        "\n",
        "# Example:\n",
        "source_file=\"source.txt\"\n",
        "destination_file=\"destination.txt\"\n",
        "\n",
        "try:\n",
        "  with open(source_file,\"w\") as file:\n",
        "    file.write(\"Hello! I am Navaneeta Mishra.\\n\")\n",
        "    file.write(\"I am learning Data Analytics.\\n\")\n",
        "    file.write(\"I have enrolled in DA cource from pwskills.\\n\")\n",
        "\n",
        "except Exception as e:\n",
        "  print(f\"An error occured: {e}\")\n",
        "\n",
        "copy_file_content(source_file,destination_file)\n"
      ],
      "metadata": {
        "colab": {
          "base_uri": "https://localhost:8080/"
        },
        "id": "PKIlGQCuTc4h",
        "outputId": "c4da8229-87ac-4a54-e41c-ecb390946971"
      },
      "execution_count": null,
      "outputs": [
        {
          "output_type": "stream",
          "name": "stdout",
          "text": [
            "File Content Successfully Copied from source.txt to destination.txt .\n"
          ]
        }
      ]
    },
    {
      "cell_type": "markdown",
      "source": [
        "## **5. How would you catch and handle division by zero error in Python?**"
      ],
      "metadata": {
        "id": "9JXOaOK0N9_f"
      }
    },
    {
      "cell_type": "code",
      "source": [
        "def division(numerator,denominator):\n",
        "  try:\n",
        "    result=numerator/denominator\n",
        "    print(f\"Division Result: {result}\")\n",
        "  except ZeroDivisionError:\n",
        "    print(\"Error: Division by Zero is not allowed\")\n",
        "\n",
        "# Example:\n",
        "d1=int(input(\"Enter the Numerator: \"))\n",
        "d2=int(input(\"Enter the Denominator: \"))\n",
        "\n",
        "division(d1,d2)"
      ],
      "metadata": {
        "colab": {
          "base_uri": "https://localhost:8080/"
        },
        "id": "I0oy2_BPWMpt",
        "outputId": "11d81b22-c041-454b-8a17-a4895fffc710"
      },
      "execution_count": null,
      "outputs": [
        {
          "output_type": "stream",
          "name": "stdout",
          "text": [
            "Enter the Numerator: 10\n",
            "Enter the Denominator: 0\n",
            "Error: Division by Zero is not allowed\n"
          ]
        }
      ]
    },
    {
      "cell_type": "markdown",
      "source": [
        "## **6. Write a Python program that logs an error message to a log file when a division by zero exception occurs.**"
      ],
      "metadata": {
        "id": "BkIc05L3OB-1"
      }
    },
    {
      "cell_type": "code",
      "source": [
        "import logging\n",
        "logging.basicConfig(\n",
        "    filename=\"error_log.txt\", # log messages to this file\n",
        "    level=logging.ERROR, # only log messages of level Error and above\n",
        "    format=\"%(asctime)s - %(levelname)s - %(message)s\" # format of log messages\n",
        "    )\n",
        "def division(numerator,denominator):\n",
        "  '''\n",
        "  divides two numbers and logs an error message to a log file when a division by zero exception occurs.\n",
        "\n",
        "  Args:\n",
        "    numerator: The numerator of the division.\n",
        "    denominator: The denominator of the division.\n",
        "  '''\n",
        "\n",
        "  try:\n",
        "    result=numerator/denominator\n",
        "    print(f\"Division Result: {result}\")\n",
        "  except ZeroDivisionError:\n",
        "    logging.error(\"Error: Division by Zero is not allowed\")\n",
        "    print(\"An Error Occured. The details have been logged in the log file.\")\n",
        "\n",
        "# Example:\n",
        "d1=int(input(\"Enter the Numerator: \"))\n",
        "d2=int(input(\"Enter the Denominator: \"))\n",
        "\n",
        "division(d1,d2)"
      ],
      "metadata": {
        "colab": {
          "base_uri": "https://localhost:8080/"
        },
        "id": "VGhzrhr-XLe6",
        "outputId": "b230a895-8cbb-4fc4-a85b-580803928724"
      },
      "execution_count": null,
      "outputs": [
        {
          "name": "stdout",
          "output_type": "stream",
          "text": [
            "Enter the Numerator: 20\n",
            "Enter the Denominator: 0\n"
          ]
        },
        {
          "output_type": "stream",
          "name": "stderr",
          "text": [
            "ERROR:root:Error: Division by Zero is not allowed\n"
          ]
        },
        {
          "output_type": "stream",
          "name": "stdout",
          "text": [
            "An Error Occured. The details have been logged in the log file.\n"
          ]
        }
      ]
    },
    {
      "cell_type": "markdown",
      "source": [
        "## **7. How do you log information at different levels (INFO, ERROR, WARNING) in Python using the logging module?**"
      ],
      "metadata": {
        "id": "zWlMOaJYOHbi"
      }
    },
    {
      "cell_type": "code",
      "source": [
        "import logging\n",
        "'''\n",
        "  logs information at different levels (INFO, ERROR, WARNING) in Python using the logging module.\n",
        "\n",
        "  Args:\n",
        "    data: The data to be processed.\n",
        "'''\n",
        "logging.basicConfig(\n",
        "    level=logging.DEBUG,\n",
        "    format=\"%(asctime)s - %(levelname)s - %(message)s\"\n",
        ")\n",
        "logging.debug(\"This is a debug message\") # for detailed debugging\n",
        "logging.info(\"This is an info message\") # for general information\n",
        "logging.warning(\"This is a warning message\") # for potential issue\n",
        "logging.error(\"This is an error message\") # for errors\n",
        "logging.critical(\"This is a critical message\") # for serious errors\n",
        "\n"
      ],
      "metadata": {
        "colab": {
          "base_uri": "https://localhost:8080/"
        },
        "id": "x5V63i8bgF3-",
        "outputId": "f4f7cd86-0285-4f71-8244-a755cf48305b"
      },
      "execution_count": null,
      "outputs": [
        {
          "output_type": "stream",
          "name": "stderr",
          "text": [
            "WARNING:root:This is a warning message\n",
            "ERROR:root:This is an error message\n",
            "CRITICAL:root:This is a critical message\n"
          ]
        }
      ]
    },
    {
      "cell_type": "markdown",
      "source": [
        "## **8. Write a program to handle a file opening error using exception handling.**"
      ],
      "metadata": {
        "id": "Cs0rNi0JONhj"
      }
    },
    {
      "cell_type": "code",
      "source": [
        "try:\n",
        "  with open(\"my_file.txt\",\"r\") as file:\n",
        "    content=file.read()\n",
        "    print(\"File Content:\\n\", content)\n",
        "# This block will only run only if the file does not exist.\n",
        "except FileNotFoundError:\n",
        "  print(\"Error: File not found\")\n",
        "except Exception as e:\n",
        "  print(f\"An error occured: {e}\")"
      ],
      "metadata": {
        "colab": {
          "base_uri": "https://localhost:8080/"
        },
        "id": "9LQqlfijkhVH",
        "outputId": "0a31334e-6f17-423f-dc2b-f80e0f00e9ec"
      },
      "execution_count": null,
      "outputs": [
        {
          "output_type": "stream",
          "name": "stdout",
          "text": [
            "File Content:\n",
            " Hello! I am Navaneeta Mishra\n"
          ]
        }
      ]
    },
    {
      "cell_type": "markdown",
      "source": [
        "## **9. How can you read a file line by line and store its content in a list in Python?**"
      ],
      "metadata": {
        "id": "MaYv8uybORsa"
      }
    },
    {
      "cell_type": "code",
      "source": [
        "try:\n",
        "  with open(\"my_file.txt\",\"r\") as file:\n",
        "    lines=[line.strip() for line in file]\n",
        "\n",
        "  print(f\"File Content as a List:\\n {lines}\")\n",
        "except FileNotFoundError:\n",
        "  print(\"Error: File not found\")\n",
        "except Exception as e:\n",
        "  print(f\"An error occured: {e}\")\n"
      ],
      "metadata": {
        "colab": {
          "base_uri": "https://localhost:8080/"
        },
        "id": "iu4XGUl5lpuh",
        "outputId": "0a387812-0c2e-4030-9290-403db1679a8d"
      },
      "execution_count": null,
      "outputs": [
        {
          "output_type": "stream",
          "name": "stdout",
          "text": [
            "File Content as a List:\n",
            " ['Hello! I am Navaneeta Mishra']\n"
          ]
        }
      ]
    },
    {
      "cell_type": "markdown",
      "source": [
        "## **10. How can you append data to an existing file in Python?**"
      ],
      "metadata": {
        "id": "ULA8MBK0OZhZ"
      }
    },
    {
      "cell_type": "code",
      "source": [
        "try:\n",
        "  with open(\"new_file.txt\",\"a\")as file:\n",
        "    file.write(\"\\nHello! This is a new Log entry\")\n",
        "    print(\"Log Entry Successfully Added\")\n",
        "\n",
        "except FileNotFoundError:\n",
        "  print(\"Error: File not found\")\n",
        "except Exception as e:\n",
        "  print(f\"An error occured: {e}\")"
      ],
      "metadata": {
        "colab": {
          "base_uri": "https://localhost:8080/"
        },
        "id": "Q1nWB5W-m0lt",
        "outputId": "1df8e127-09a6-45ff-a74c-d7a1432109ee"
      },
      "execution_count": null,
      "outputs": [
        {
          "output_type": "stream",
          "name": "stdout",
          "text": [
            "Log Entry Successfully Added\n"
          ]
        }
      ]
    },
    {
      "cell_type": "markdown",
      "source": [
        "## **11. Write a Python program that uses a try-except block to handle an error when attempting to access a dictionary key that doesn't exist.**"
      ],
      "metadata": {
        "id": "DeAONPasOeQj"
      }
    },
    {
      "cell_type": "code",
      "source": [
        "def get_dictonary_value(data_dict,key):\n",
        "\n",
        "  \"\"\"\n",
        "  Retrieves the value associated with a given key from a dictionary.\n",
        "\n",
        "  Args:\n",
        "    data_dict: The dictionary from which to retrieve the value.\n",
        "    key: The key for which to retrieve the associated value.\n",
        "\n",
        "  Returns:\n",
        "    The value associated with the given key, or None if the key is not found in the dictionary.\n",
        "  \"\"\"\n",
        "  try:\n",
        "    value=data_dict[key]\n",
        "    print(f\"Successfully Retrieved Value: {value}\")\n",
        "    return value\n",
        "  except KeyError:\n",
        "    print(f\"Error: Key '{key}' not found in the dictionary\")\n",
        "    return f\"Key '{key}' not found in the dictionary\"\n",
        "  except Exception as e:\n",
        "    print(f\"An error occured: {e}\")\n",
        "    return f\"An error occured: {e}\"\n",
        "\n",
        "# Example:\n",
        "my_data={\n",
        "    \"Name\":\"Navi\",\n",
        "    \"Age\":25,\n",
        "    \"City\":\"BBSR\"\n",
        "}\n",
        "\n",
        "# Dictonary With Various Keys:\n",
        "print(\"----Test Case 1: With an Existing Key----\")\n",
        "get_dictonary_value(my_data,\"Name\")\n",
        "print(\"-\"*30)\n",
        "\n",
        "print(\"----Test Case 2: With a Non Existing Key----\")\n",
        "get_dictonary_value(my_data,\"Country\")\n",
        "print(\"-\"*30)\n",
        "\n",
        "print(\"----Test Case 3: With An Existing Key----\")\n",
        "get_dictonary_value(my_data,\"Age\")\n",
        "print(\"-\"*30)\n",
        "\n",
        "print(\"---Test Case 4: With a Non Exisisting Key----\")\n",
        "get_dictonary_value(my_data,\"Gender\")\n",
        "print(\"-\"*30)\n",
        "\n",
        "\n",
        "# Empty Dictonary:\n",
        "empty_dict={}\n",
        "print(\"---Test Case 5: Key in an Empty Dictonary---\")\n",
        "get_dictonary_value(empty_dict,\"item\")\n",
        "print(\"-\"*30)"
      ],
      "metadata": {
        "colab": {
          "base_uri": "https://localhost:8080/"
        },
        "id": "3ulPHfOJbgmv",
        "outputId": "7311bee4-71b1-4bfa-dd70-e3473c33f4f5"
      },
      "execution_count": null,
      "outputs": [
        {
          "output_type": "stream",
          "name": "stdout",
          "text": [
            "----Test Case 1: With an Existing Key----\n",
            "Successfully Retrieved Value: Navi\n",
            "------------------------------\n",
            "----Test Case 2: With a Non Existing Key----\n",
            "Error: Key 'Country' not found in the dictionary\n",
            "------------------------------\n",
            "----Test Case 3: With An Existing Key----\n",
            "Successfully Retrieved Value: 25\n",
            "------------------------------\n",
            "---Test Case 4: With a Non Exisisting Key----\n",
            "Error: Key 'Gender' not found in the dictionary\n",
            "------------------------------\n",
            "---Test Case 5: Key in an Empty Dictonary---\n",
            "Error: Key 'item' not found in the dictionary\n",
            "------------------------------\n"
          ]
        }
      ]
    },
    {
      "cell_type": "markdown",
      "source": [
        "## **12. Write a program that demonstrates using multiple except blocks to handle different types of exceptions.**"
      ],
      "metadata": {
        "id": "HcmBJ4DqOl3e"
      }
    },
    {
      "cell_type": "code",
      "source": [
        "def safe_division():\n",
        "  try:\n",
        "    num1=int(input(\"Enter the First Number: \"))\n",
        "    num2=int(input(\"Enter the Second Number: \"))\n",
        "    result=num1/num2\n",
        "    print(f\"Division Result: {result}\")\n",
        "  except ZeroDivisionError:\n",
        "    print(\"Error: Division by Zero is not allowed\")\n",
        "  except ValueError:\n",
        "    print(\"Error: Invalid Input. Please Enter a Valid Number\")\n",
        "  except Exception as e:\n",
        "    print(f\"An error occured: {e}\")\n",
        "\n",
        "# Example:\n",
        "print(\"---Example 1: Valid Input---\")\n",
        "safe_division()\n",
        "print(\"-\"*30)\n",
        "\n",
        "print(\"---Example 2: Invalid Input---\")\n",
        "safe_division()\n",
        "print(\"-\"*30)\n",
        "\n",
        "print(\"---Example 3: Division by Zero---\")\n",
        "safe_division()\n",
        "print(\"-\"*30)"
      ],
      "metadata": {
        "colab": {
          "base_uri": "https://localhost:8080/"
        },
        "id": "D3vVBoA6eLI3",
        "outputId": "5cd321ca-e87b-4cad-b0a3-43e55953a574"
      },
      "execution_count": null,
      "outputs": [
        {
          "output_type": "stream",
          "name": "stdout",
          "text": [
            "---Example 1: Valid Input---\n",
            "Enter the First Number: 10\n",
            "Enter the Second Number: 5\n",
            "Division Result: 2.0\n",
            "------------------------------\n",
            "---Example 2: Invalid Input---\n",
            "Enter the First Number: 25\n",
            "Enter the Second Number: 5.3\n",
            "Error: Invalid Input. Please Enter a Valid Number\n",
            "------------------------------\n",
            "---Example 3: Division by Zero---\n",
            "Enter the First Number: 10\n",
            "Enter the Second Number: 0\n",
            "Error: Division by Zero is not allowed\n",
            "------------------------------\n"
          ]
        }
      ]
    },
    {
      "cell_type": "markdown",
      "source": [
        "## **13. How would you check if a file exists before attempting to read it in Python?**"
      ],
      "metadata": {
        "id": "aEoyCnWiOrLQ"
      }
    },
    {
      "cell_type": "code",
      "source": [
        "import os\n",
        "file1=\"my_doc.txt\"\n",
        "with open(file1,\"w\") as file:\n",
        "  file.write(\"Welcome to PWSkills\")\n",
        "\n",
        "if os.path.exists(file1):\n",
        "  print(f\"File'{file1}' exists. Attempting to read.....\")\n",
        "  try:\n",
        "    with open(file1,\"r\") as file:\n",
        "      content=file.read()\n",
        "      print(\"File Content: \")\n",
        "      print(content)\n",
        "  except FileNotFoundError:\n",
        "    print(\"Error: File not found\")\n",
        "  except Exception as e:\n",
        "    print(f\"An error occured: {e}\")\n",
        "else:\n",
        "  print(f\"File '{file1}' Does Not Exist\")\n",
        "\n"
      ],
      "metadata": {
        "colab": {
          "base_uri": "https://localhost:8080/"
        },
        "id": "iLgwV_1dl13q",
        "outputId": "b9f28c59-b0ce-4a94-9c7b-eb2609090500"
      },
      "execution_count": null,
      "outputs": [
        {
          "output_type": "stream",
          "name": "stdout",
          "text": [
            "File'my_doc.txt' exists. Attempting to read.....\n",
            "File Content: \n",
            "Welcome to PWSkills\n"
          ]
        }
      ]
    },
    {
      "cell_type": "markdown",
      "source": [
        "## **14. Write a program that uses the logging module to log both informational and error messages.**"
      ],
      "metadata": {
        "id": "BP2_wSAnOwVY"
      }
    },
    {
      "cell_type": "code",
      "source": [
        "import logging\n",
        "logging.basicConfig(\n",
        "    level=logging.INFO,\n",
        "    format=\"%(asctime)s - %(levelname)s - %(message)s\",\n",
        "    filename=\"log_file.txt\",\n",
        "    filemode=\"w\"\n",
        ")\n",
        "\n",
        "logging.info(\"Program Started\")\n",
        "\n",
        "try:\n",
        "  num1=int(input(\"Enter the First Number: \"))\n",
        "  num2=int(input(\"Enter the Second Number: \"))\n",
        "  result=num1/num2\n",
        "  logging.info(f\"Division Result: {result}\")\n",
        "except ZeroDivisionError:\n",
        "  logging.error(\"Error: Division by Zero is not allowed\")\n",
        "except ValueError:\n",
        "  logging.error(\"Error: Invalid Input. Please Enter a Valid Number\")\n",
        "except Exception as e:\n",
        "  logging.error(f\"An error occured: {e}\")\n",
        "\n",
        "logging.info(\"Program Ended.\")\n"
      ],
      "metadata": {
        "colab": {
          "base_uri": "https://localhost:8080/"
        },
        "id": "jakbwRN_6Tcm",
        "outputId": "7fe79d55-a29f-4c96-f188-9a8ef838de77"
      },
      "execution_count": null,
      "outputs": [
        {
          "name": "stdout",
          "output_type": "stream",
          "text": [
            "Enter the First Number: 25\n",
            "Enter the Second Number: hello\n"
          ]
        },
        {
          "output_type": "stream",
          "name": "stderr",
          "text": [
            "ERROR:root:Error: Invalid Input. Please Enter a Valid Number\n"
          ]
        }
      ]
    },
    {
      "cell_type": "markdown",
      "source": [
        "## **15. Write a Python program that prints the content of a file and handles the case when the file is empty.**"
      ],
      "metadata": {
        "id": "0wWsYp46O1PO"
      }
    },
    {
      "cell_type": "code",
      "source": [
        "file2=\"empty_file.txt\"\n",
        "try:\n",
        "  with open(file2,\"r\") as file:\n",
        "    content=file.read()\n",
        "    if content.strip()==\"\" :# checks if the file is empty or not\n",
        "      print(f\"File Content of '{file2}'is empty\")\n",
        "    else:\n",
        "      print(\"File Content:\")\n",
        "      print(content)\n",
        "except FileNotFoundError:\n",
        "  print(f\"File '{file2}' not found\")\n",
        "except Exception as e:\n",
        "  print(f\"An error occured: {e}\")"
      ],
      "metadata": {
        "colab": {
          "base_uri": "https://localhost:8080/"
        },
        "id": "cljb5cBN9Ht5",
        "outputId": "f4039a72-a897-4874-d3f6-e9033f6421ae"
      },
      "execution_count": null,
      "outputs": [
        {
          "output_type": "stream",
          "name": "stdout",
          "text": [
            "File 'empty_file.txt' not found\n"
          ]
        }
      ]
    },
    {
      "cell_type": "markdown",
      "source": [
        "## **16. Demonstrate how to use memory profiling to check the memory usage of a small program.**"
      ],
      "metadata": {
        "id": "0x6Z6wswO7Bz"
      }
    },
    {
      "cell_type": "code",
      "source": [
        "!pip install memory-profiler\n",
        "import time\n",
        "from memory_profiler import profile\n",
        "\n",
        "# The @profile decorator tells memory_profiler to measure this function's memory usage\n",
        "@profile\n",
        "def my_program():\n",
        "\n",
        "    print(\"Starting program...\")\n",
        "\n",
        "    # Line 1: Allocate a list of 10 million integers\n",
        "    a = [i for i in range(10**7)]\n",
        "    time.sleep(1) # Pause to make the memory usage clear in the output\n",
        "\n",
        "    print(\"Created a large list.\")\n",
        "\n",
        "    # Line 2: Create a second, smaller list\n",
        "    b = [i for i in range(10**6)]\n",
        "    time.sleep(1)\n",
        "\n",
        "    print(\"Created a second list.\")\n",
        "\n",
        "    # Line 3: Deleting 'a' will free up memory\n",
        "    del a\n",
        "    time.sleep(1)\n",
        "\n",
        "    print(\"Program finished.\")\n",
        "    return b\n",
        "\n",
        "if __name__ == '__main__':\n",
        "    my_program()"
      ],
      "metadata": {
        "colab": {
          "base_uri": "https://localhost:8080/"
        },
        "id": "h-mgu_G8-Lvf",
        "outputId": "186b0f38-891e-4443-bd16-e3de272cf2b3"
      },
      "execution_count": null,
      "outputs": [
        {
          "output_type": "stream",
          "name": "stdout",
          "text": [
            "Collecting memory-profiler\n",
            "  Downloading memory_profiler-0.61.0-py3-none-any.whl.metadata (20 kB)\n",
            "Requirement already satisfied: psutil in /usr/local/lib/python3.11/dist-packages (from memory-profiler) (5.9.5)\n",
            "Downloading memory_profiler-0.61.0-py3-none-any.whl (31 kB)\n",
            "Installing collected packages: memory-profiler\n",
            "Successfully installed memory-profiler-0.61.0\n",
            "ERROR: Could not find file /tmp/ipython-input-2446085977.py\n",
            "Starting program...\n",
            "Created a large list.\n",
            "Created a second list.\n",
            "Program finished.\n"
          ]
        }
      ]
    },
    {
      "cell_type": "markdown",
      "source": [
        "## **17. Write a Python program to create and write a list of numbers to a file, one number per line.**"
      ],
      "metadata": {
        "id": "Wbdp8_GSO_2T"
      }
    },
    {
      "cell_type": "code",
      "source": [
        "def write_numbers_to_file(numbers,file_name):\n",
        "  \"\"\"\n",
        "  Writes a list of numbers to a file, one number per line.\n",
        "\n",
        "  Args:\n",
        "    numbers: A list of numbers to be written to the file.\n",
        "    file_name: The name of the file to write the numbers to.\n",
        "  \"\"\"\n",
        "  try:\n",
        "    with open(file_name,\"w\") as file:\n",
        "      for number in numbers:\n",
        "        file.write(str(number)+\"\\n\")\n",
        "    print(f\"Numbers Successfully Written to '{file_name}'\")\n",
        "  except Exception as e:\n",
        "    print(f\"An error Occurred while writing to the file:{e}\")\n",
        "# Example:\n",
        "\n",
        "numbers_list=[1,2,3,4,5,6,7,8,9,10]\n",
        "write_numbers_to_file(numbers_list,\"numbers.txt\")\n",
        "\n",
        "\n",
        "# Verification Process:\n",
        "\n",
        "print(\"\\n ------Verifying File Content------\")\n",
        "try:\n",
        "  with open(\"numbers.txt\",\"r\") as file:\n",
        "    lines=file.readlines()\n",
        "    print(\"File Content:\")\n",
        "    for line in lines:\n",
        "      print(line.strip())\n",
        "except FileNotFoundError:\n",
        "  print(\"Error: File not found\")\n",
        "except Exception as e:\n",
        "  print(f\"An error occured: {e}\")"
      ],
      "metadata": {
        "colab": {
          "base_uri": "https://localhost:8080/"
        },
        "id": "ZKKjsJmiDiEE",
        "outputId": "fecc6296-e105-44c6-94d1-aa0327cf489c"
      },
      "execution_count": null,
      "outputs": [
        {
          "output_type": "stream",
          "name": "stdout",
          "text": [
            "Numbers Successfully Written to 'numbers.txt'\n",
            "\n",
            " ------Verifying File Content------\n",
            "File Content:\n",
            "1\n",
            "2\n",
            "3\n",
            "4\n",
            "5\n",
            "6\n",
            "7\n",
            "8\n",
            "9\n",
            "10\n"
          ]
        }
      ]
    },
    {
      "cell_type": "code",
      "source": [
        "numbers=[10,20,30,40,50]\n",
        "file_path=\"numbers.txt\"\n",
        "try:\n",
        "  with open(file_path,\"w\") as file:\n",
        "    for num in numbers:\n",
        "      file.write(f\"{num}\\n\")\n",
        "  print(f\"Numbers Successfully Written to '{file_path}'\")\n",
        "except Exception as e:\n",
        "  print(f\"An error Occurred while writing to the file:{e}\")"
      ],
      "metadata": {
        "colab": {
          "base_uri": "https://localhost:8080/"
        },
        "id": "1s8GzcntFLm7",
        "outputId": "144a4dde-29b6-4cc4-de4c-d62d9788130c"
      },
      "execution_count": null,
      "outputs": [
        {
          "output_type": "stream",
          "name": "stdout",
          "text": [
            "Numbers Successfully Written to 'numbers.txt'\n"
          ]
        }
      ]
    },
    {
      "cell_type": "markdown",
      "source": [
        "## **18. How would you implement a basic logging setup that logs to a file with rotation after 1MB.**"
      ],
      "metadata": {
        "id": "TEPmpzoTPEJb"
      }
    },
    {
      "cell_type": "code",
      "source": [
        "import logging\n",
        "import logging.handlers\n",
        "import time\n",
        "import os\n",
        "\n",
        "# Configuration For the Rotating Logger:\n",
        "\n",
        "# Definying the logger's level and file setting:\n",
        "\n",
        "LOG_FILE=\"app.log\"\n",
        "MAX_LOG_SIZE=1024*1024 # 1MB\n",
        "BACKUP_COUNT=3\n",
        "\n",
        "# Getting a Logger Instance:\n",
        "logger=logging.getLogger(\"my_logger\")\n",
        "logger.setLevel(logging.INFO)\n",
        "\n",
        "# Creating a rotating File:\n",
        "handler=logging.handlers.RotatingFileHandler(\n",
        "    LOG_FILE,\n",
        "    maxBytes=MAX_LOG_SIZE,\n",
        "    backupCount=BACKUP_COUNT\n",
        ")\n",
        "\n",
        "# Creating a Log Formatter:\n",
        "\n",
        "formatter=logging.Formatter(\"%(asctime)s - %(levelname)s - %(message)s\")\n",
        "handler.setFormatter(formatter)\n",
        "\n",
        "# Adding the Handler to the Logger:\n",
        "logger.addHandler(handler)\n",
        "\n",
        "\n",
        "# Example:\n",
        "\n",
        "if __name__==\"__main__\":\n",
        "  print(f\"Logging to '{LOG_FILE}'. The File will rotate after {MAX_LOG_SIZE} bytes.\")\n",
        "  print(f\"Watch the log file: '{LOG_FILE}','{LOG_FILE}.1',etc.\")\n",
        "\n",
        "long_message=\"This is a log message that will be repeated many times. \"\n",
        "long_message*=10\n",
        "\n",
        "for i in range(5):\n",
        "  if i % 10==0:\n",
        "    logger.warning(f\"This is a warning at iteration{i}.\")\n",
        "  else:\n",
        "    logger.info(f\"Log Message{i}: {long_message}\")\n",
        "  time.sleep(0.01)\n",
        "print(\"Log Generation COMPLETE. Check the directory for rotated files.\")\n",
        "\n",
        "\n",
        "\n"
      ],
      "metadata": {
        "colab": {
          "base_uri": "https://localhost:8080/"
        },
        "id": "mLB1C2q8E9nh",
        "outputId": "443eced0-1c95-4ea1-c155-8806b3f8ebd6"
      },
      "execution_count": null,
      "outputs": [
        {
          "output_type": "stream",
          "name": "stderr",
          "text": [
            "WARNING:my_logger:This is a warning at iteration0.\n",
            "INFO:my_logger:Log Message1: This is a log message that will be repeated many times. This is a log message that will be repeated many times. This is a log message that will be repeated many times. This is a log message that will be repeated many times. This is a log message that will be repeated many times. This is a log message that will be repeated many times. This is a log message that will be repeated many times. This is a log message that will be repeated many times. This is a log message that will be repeated many times. This is a log message that will be repeated many times. \n",
            "INFO:my_logger:Log Message2: This is a log message that will be repeated many times. This is a log message that will be repeated many times. This is a log message that will be repeated many times. This is a log message that will be repeated many times. This is a log message that will be repeated many times. This is a log message that will be repeated many times. This is a log message that will be repeated many times. This is a log message that will be repeated many times. This is a log message that will be repeated many times. This is a log message that will be repeated many times. \n",
            "INFO:my_logger:Log Message3: This is a log message that will be repeated many times. This is a log message that will be repeated many times. This is a log message that will be repeated many times. This is a log message that will be repeated many times. This is a log message that will be repeated many times. This is a log message that will be repeated many times. This is a log message that will be repeated many times. This is a log message that will be repeated many times. This is a log message that will be repeated many times. This is a log message that will be repeated many times. \n",
            "INFO:my_logger:Log Message4: This is a log message that will be repeated many times. This is a log message that will be repeated many times. This is a log message that will be repeated many times. This is a log message that will be repeated many times. This is a log message that will be repeated many times. This is a log message that will be repeated many times. This is a log message that will be repeated many times. This is a log message that will be repeated many times. This is a log message that will be repeated many times. This is a log message that will be repeated many times. \n"
          ]
        },
        {
          "output_type": "stream",
          "name": "stdout",
          "text": [
            "Logging to 'app.log'. The File will rotate after 1048576 bytes.\n",
            "Watch the log file: 'app.log','app.log.1',etc.\n",
            "Log Generation COMPLETE. Check the directory for rotated files.\n"
          ]
        }
      ]
    },
    {
      "cell_type": "markdown",
      "source": [
        "## **19. Write a program that handles both IndexError and KeyError using a try-except block.**"
      ],
      "metadata": {
        "id": "kwHlCjiXPJZX"
      }
    },
    {
      "cell_type": "code",
      "source": [
        "l1=[1,2,3]\n",
        "d1={\"a\":10,\"b\":20}\n",
        "\n",
        "try:\n",
        "  print(\"List item:\", l1[5])\n",
        "  print(\"Dictionary values:\",d1[\"z\"])\n",
        "\n",
        "except IndexError:\n",
        "  print(\"Error: Index out of range\")\n",
        "except KeyError:\n",
        "  print(\"Error: Key not found in the dictionary\")\n",
        "except Exception as e:\n",
        "  print(f\"An error occured: {e}\")"
      ],
      "metadata": {
        "colab": {
          "base_uri": "https://localhost:8080/"
        },
        "id": "7B-4OXSdI-KK",
        "outputId": "7ec2110c-8aad-492e-9eb0-155c0f917753"
      },
      "execution_count": null,
      "outputs": [
        {
          "output_type": "stream",
          "name": "stdout",
          "text": [
            "Error: Index out of range\n"
          ]
        }
      ]
    },
    {
      "cell_type": "markdown",
      "source": [
        "## **20. How would you open a file and read its contents using a context manager in Python?**"
      ],
      "metadata": {
        "id": "O47ncJbrPPUW"
      }
    },
    {
      "cell_type": "code",
      "source": [
        "f1=\"test_file.txt\"\n",
        "try:\n",
        "  with open(f1,\"r\") as file:\n",
        "    content=file.read()\n",
        "    print(\"File Content:\")\n",
        "    print(content)\n",
        "except FileNotFoundError:\n",
        "  print(f\"Error: File '{f1}' not found\")\n",
        "except Exception as e:\n",
        "  print(f\"An error occured: {e}\")"
      ],
      "metadata": {
        "colab": {
          "base_uri": "https://localhost:8080/"
        },
        "id": "245k7mVKKEtI",
        "outputId": "21c7f96b-3e85-4932-8838-703404bf1554"
      },
      "execution_count": null,
      "outputs": [
        {
          "output_type": "stream",
          "name": "stdout",
          "text": [
            "Error: File 'test_file.txt' not found\n"
          ]
        }
      ]
    },
    {
      "cell_type": "markdown",
      "source": [
        "## **21. Write a Python program that reads a file and prints the number of occurrences of a specific word.**"
      ],
      "metadata": {
        "id": "2LPchgb0PUTT"
      }
    },
    {
      "cell_type": "code",
      "source": [
        "file_path=\"example.txt\"\n",
        "target_word=\"Python\"\n",
        "\n",
        "try:\n",
        "  with open(file_path,\"r\") as file:\n",
        "    content=file.read().lower()\n",
        "  count= content.split().count(target_word.lower())\n",
        "  print(f\"The word '{target_word}' appears {count} times in the file.\")\n",
        "except FileNotFoundError:\n",
        "  print(f\"Error: File '{file_path}' not found\")\n",
        "except Exception as e:\n",
        "  print(f\"An error occured: {e}\")"
      ],
      "metadata": {
        "colab": {
          "base_uri": "https://localhost:8080/"
        },
        "id": "bBF18e3JLOo-",
        "outputId": "a5ff8a21-b81e-48c9-82d4-84f38e838b55"
      },
      "execution_count": null,
      "outputs": [
        {
          "output_type": "stream",
          "name": "stdout",
          "text": [
            "Error: File 'example.txt' not found\n"
          ]
        }
      ]
    },
    {
      "cell_type": "markdown",
      "source": [
        "## **22. How can you check if a file is empty before attempting to read its contents?**"
      ],
      "metadata": {
        "id": "DsFikRKwPY1n"
      }
    },
    {
      "cell_type": "code",
      "source": [
        "import os\n",
        "file_path=\"empty_file.txt\"\n",
        "with open(file_path,\"w\") as file:\n",
        "  pass\n",
        "if os.path.exists(file_path):\n",
        "  if os.path.getsize(file_path)>0:\n",
        "    print(f\"The File is not Empty. Reading contents.....\")\n",
        "    with open(file_path,\"r\") as file:\n",
        "      content=file.read()\n",
        "      print(\"File Content:\")\n",
        "      print(content)\n",
        "  else:\n",
        "    print(f\"The File is Empty\")\n",
        "else:\n",
        "  print(f\"Error: File '{file_path}' not found\")"
      ],
      "metadata": {
        "colab": {
          "base_uri": "https://localhost:8080/"
        },
        "id": "Lr-WveXZT1D4",
        "outputId": "48800f9f-586f-4979-ab85-d902344cb5d9"
      },
      "execution_count": null,
      "outputs": [
        {
          "output_type": "stream",
          "name": "stdout",
          "text": [
            "The File is Empty\n"
          ]
        }
      ]
    },
    {
      "cell_type": "markdown",
      "source": [
        "## **23. Write a Python program that writes to a log file when an error occurs during file handling.**"
      ],
      "metadata": {
        "id": "_2ud96MvPdOs"
      }
    },
    {
      "cell_type": "code",
      "execution_count": null,
      "metadata": {
        "id": "umO7gctMLc2B",
        "colab": {
          "base_uri": "https://localhost:8080/"
        },
        "outputId": "bc47de7c-b09a-4591-d371-63472af50e9c"
      },
      "outputs": [
        {
          "output_type": "stream",
          "name": "stderr",
          "text": [
            "ERROR:root:Error: File 'example.txt' not found\n"
          ]
        }
      ],
      "source": [
        "import logging\n",
        "import os\n",
        "\n",
        "logging.basicConfig(\n",
        "    filename=\"error_log.txt\",\n",
        "    level=logging.ERROR,\n",
        "    format=\"%(asctime)s - %(levelname)s - %(message)s\"\n",
        ")\n",
        "\n",
        "file_path=\"example.txt\"\n",
        "\n",
        "try:\n",
        "  with open(file_path,\"r\") as file:\n",
        "    content=file.read()\n",
        "    print(\"File Content:\")\n",
        "    print(content)\n",
        "except FileNotFoundError:\n",
        "  logging.error(f\"Error: File '{file_path}' not found\")\n",
        "except Exception as e:\n",
        "  logging.error(f\"An error occured: {e}\")"
      ]
    }
  ]
}